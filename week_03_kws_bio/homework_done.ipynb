{
 "cells": [
  {
   "cell_type": "markdown",
   "metadata": {},
   "source": [
    "# Homework (Week 3) -- Biometrics (20 points)\n",
    "\n",
    "In this homework we train Biometrics Verification model and use some features to increase quality:\n",
    "1) Train ECAPA-TDNN (10 points)\n",
    "2) Any contrastive loss (10 points)\n",
    "\n",
    "Link to download dataset: https://disk.yandex.ru/d/lyhtieYbxQOYqw"
   ]
  },
  {
   "cell_type": "code",
   "execution_count": 1,
   "metadata": {
    "execution": {
     "iopub.execute_input": "2025-05-17T20:12:21.016009Z",
     "iopub.status.busy": "2025-05-17T20:12:21.014643Z",
     "iopub.status.idle": "2025-05-17T20:12:40.023840Z",
     "shell.execute_reply": "2025-05-17T20:12:40.021865Z",
     "shell.execute_reply.started": "2025-05-17T20:12:21.015928Z"
    },
    "tags": []
   },
   "outputs": [],
   "source": [
    "import os\n",
    "\n",
    "import matplotlib.pyplot as plt\n",
    "import numpy as np\n",
    "import pandas as pd\n",
    "import requests\n",
    "import torch\n",
    "import torch.nn as nn\n",
    "import torch.nn.functional as F\n",
    "import torch.optim as optim\n",
    "import torch.utils.data as torch_data\n",
    "import torchaudio\n",
    "import tqdm.notebook as tqdm\n",
    "import urllib\n",
    "\n",
    "import dataset\n",
    "\n",
    "from IPython.display import clear_output\n",
    "\n",
    "%matplotlib inline"
   ]
  },
  {
   "cell_type": "code",
   "execution_count": 2,
   "metadata": {
    "execution": {
     "iopub.execute_input": "2025-05-17T16:39:34.216740Z",
     "iopub.status.busy": "2025-05-17T16:39:34.216054Z",
     "iopub.status.idle": "2025-05-17T16:39:34.519499Z",
     "shell.execute_reply": "2025-05-17T16:39:34.518721Z",
     "shell.execute_reply.started": "2025-05-17T16:39:34.216701Z"
    },
    "tags": []
   },
   "outputs": [
    {
     "data": {
      "text/plain": [
       "'https://downloader.disk.yandex.ru/disk/d677700dbfa24f6fcddd2df59aa78372349d044bac143a9ba0e1602b1b0b6793/6828f406/gtj3WQiuHGabqHv6W0pVHGRnXFJAW27izLLMm2MbHXViekKTxmGtGgT-Cdced2Nyo5eSrwwUCF_GbUu7CV3RNA%3D%3D?uid=0&filename=voxceleb.tar.gz&disposition=attachment&hash=UbepA8Q9HDxeFKWCa8Y0tO7K9asCmTAjTZtG1dex6z7oEbCbmS7yu53hGphcr8rhq/J6bpmRyOJonT3VoXnDag%3D%3D%3A&limit=0&content_type=application%2Fx-gzip&owner_uid=163052607&fsize=7150565898&hid=d5bd9cc88bda4eba5b285b6d33a11c38&media_type=compressed&tknv=v3'"
      ]
     },
     "execution_count": 2,
     "metadata": {},
     "output_type": "execute_result"
    }
   ],
   "source": [
    "base_url = 'https://cloud-api.yandex.net/v1/disk/public/resources/download?'\n",
    "public_key = 'https://disk.yandex.ru/d/lyhtieYbxQOYqw'\n",
    "final_url = base_url + urllib.parse.urlencode(dict(public_key=public_key))\n",
    "response = requests.get(final_url)\n",
    "download_url = response.json()['href']\n",
    "download_url"
   ]
  },
  {
   "cell_type": "code",
   "execution_count": 3,
   "metadata": {
    "execution": {
     "iopub.execute_input": "2025-05-17T16:39:56.697590Z",
     "iopub.status.busy": "2025-05-17T16:39:56.696712Z",
     "iopub.status.idle": "2025-05-17T16:39:57.034795Z",
     "shell.execute_reply": "2025-05-17T16:39:57.032348Z",
     "shell.execute_reply.started": "2025-05-17T16:39:56.697547Z"
    },
    "tags": []
   },
   "outputs": [
    {
     "name": "stderr",
     "output_type": "stream",
     "text": [
      "--2025-05-17 16:39:56--  https://downloader.disk.yandex.ru/disk/b6f58a830b071d80f3ab22160670a31f3ae0b460e595283a0857afb074ba768c/67c46bcd/gtj3WQiuHGabqHv6W0pVHGRnXFJAW27izLLMm2MbHXViekKTxmGtGgT-Cdced2Nyo5eSrwwUCF_GbUu7CV3RNA%3D%3D?uid=0&filename=voxceleb.tar.gz&disposition=attachment&hash=UbepA8Q9HDxeFKWCa8Y0tO7K9asCmTAjTZtG1dex6z7oEbCbmS7yu53hGphcr8rhq/J6bpmRyOJonT3VoXnDag%3D%3D%3A&limit=0&content_type=application%2Fx-gzip&owner_uid=163052607&fsize=7150565898&hid=d5bd9cc88bda4eba5b285b6d33a11c38&media_type=compressed&tknv=v2\n",
      "Resolving downloader.disk.yandex.ru (downloader.disk.yandex.ru)... 77.88.21.127, 2a02:6b8::2:127\n",
      "Connecting to downloader.disk.yandex.ru (downloader.disk.yandex.ru)|77.88.21.127|:443... connected.\n",
      "HTTP request sent, awaiting response... 410 Gone\n",
      "2025-05-17 16:39:56 ERROR 410: Gone.\n",
      "\n"
     ]
    },
    {
     "ename": "Exception",
     "evalue": "Process exited with code 8",
     "output_type": "error",
     "traceback": [
      "\u001b[0;31m---------------------------------------------------------------------------\u001b[0m",
      "\u001b[0;31mException\u001b[0m                                 Traceback (most recent call last)",
      "\u001b[0;32m/tmp/ipykernel_12321/3432781867.py\u001b[0m in \u001b[0;36m<cell line: 1>\u001b[0;34m()\u001b[0m\n\u001b[0;32m----> 1\u001b[0;31m \u001b[0mget_ipython\u001b[0m\u001b[0;34m(\u001b[0m\u001b[0;34m)\u001b[0m\u001b[0;34m.\u001b[0m\u001b[0msystem\u001b[0m\u001b[0;34m(\u001b[0m\u001b[0;34m\"wget -O voxceleb.tar.gz 'https://downloader.disk.yandex.ru/disk/b6f58a830b071d80f3ab22160670a31f3ae0b460e595283a0857afb074ba768c/67c46bcd/gtj3WQiuHGabqHv6W0pVHGRnXFJAW27izLLMm2MbHXViekKTxmGtGgT-Cdced2Nyo5eSrwwUCF_GbUu7CV3RNA%3D%3D?uid=0&filename=voxceleb.tar.gz&disposition=attachment&hash=UbepA8Q9HDxeFKWCa8Y0tO7K9asCmTAjTZtG1dex6z7oEbCbmS7yu53hGphcr8rhq/J6bpmRyOJonT3VoXnDag%3D%3D%3A&limit=0&content_type=application%2Fx-gzip&owner_uid=163052607&fsize=7150565898&hid=d5bd9cc88bda4eba5b285b6d33a11c38&media_type=compressed&tknv=v2'\"\u001b[0m\u001b[0;34m)\u001b[0m\u001b[0;34m\u001b[0m\u001b[0;34m\u001b[0m\u001b[0m\n\u001b[0m\u001b[1;32m      2\u001b[0m \u001b[0mget_ipython\u001b[0m\u001b[0;34m(\u001b[0m\u001b[0;34m)\u001b[0m\u001b[0;34m.\u001b[0m\u001b[0msystem\u001b[0m\u001b[0;34m(\u001b[0m\u001b[0;34m'tar -xf voxceleb.tar.gz'\u001b[0m\u001b[0;34m)\u001b[0m\u001b[0;34m\u001b[0m\u001b[0;34m\u001b[0m\u001b[0m\n",
      "\u001b[0;32m/kernel/lib/python3.10/site-packages/ml_kernel/kernel.py\u001b[0m in \u001b[0;36m<lambda>\u001b[0;34m(code)\u001b[0m\n\u001b[1;32m    192\u001b[0m \u001b[0;34m\u001b[0m\u001b[0m\n\u001b[1;32m    193\u001b[0m         \u001b[0mself\u001b[0m\u001b[0;34m.\u001b[0m\u001b[0m_script_executor\u001b[0m \u001b[0;34m=\u001b[0m \u001b[0mScriptExecutor\u001b[0m\u001b[0;34m(\u001b[0m\u001b[0mget_output_error_code\u001b[0m\u001b[0;34m)\u001b[0m\u001b[0;34m\u001b[0m\u001b[0;34m\u001b[0m\u001b[0m\n\u001b[0;32m--> 194\u001b[0;31m         \u001b[0mself\u001b[0m\u001b[0;34m.\u001b[0m\u001b[0mshell\u001b[0m\u001b[0;34m.\u001b[0m\u001b[0msystem\u001b[0m \u001b[0;34m=\u001b[0m \u001b[0;32mlambda\u001b[0m \u001b[0mcode\u001b[0m\u001b[0;34m:\u001b[0m \u001b[0mself\u001b[0m\u001b[0;34m.\u001b[0m\u001b[0m_script_executor\u001b[0m\u001b[0;34m.\u001b[0m\u001b[0mexecute\u001b[0m\u001b[0;34m(\u001b[0m\u001b[0;34m\"bash\"\u001b[0m\u001b[0;34m,\u001b[0m \u001b[0mcode\u001b[0m\u001b[0;34m)\u001b[0m\u001b[0;34m\u001b[0m\u001b[0;34m\u001b[0m\u001b[0m\n\u001b[0m\u001b[1;32m    195\u001b[0m \u001b[0;34m\u001b[0m\u001b[0m\n\u001b[1;32m    196\u001b[0m     \u001b[0;32mdef\u001b[0m \u001b[0m_init_user_ns\u001b[0m\u001b[0;34m(\u001b[0m\u001b[0mself\u001b[0m\u001b[0;34m)\u001b[0m\u001b[0;34m:\u001b[0m\u001b[0;34m\u001b[0m\u001b[0;34m\u001b[0m\u001b[0m\n",
      "\u001b[0;32m/kernel/lib/python3.10/site-packages/ml_kernel/script_executor.py\u001b[0m in \u001b[0;36mexecute\u001b[0;34m(self, lang, code)\u001b[0m\n\u001b[1;32m     41\u001b[0m         \u001b[0mreturn_code\u001b[0m \u001b[0;34m=\u001b[0m \u001b[0mself\u001b[0m\u001b[0;34m.\u001b[0m\u001b[0mdo_execute\u001b[0m\u001b[0;34m(\u001b[0m\u001b[0mcode\u001b[0m\u001b[0;34m)\u001b[0m\u001b[0;34m\u001b[0m\u001b[0;34m\u001b[0m\u001b[0m\n\u001b[1;32m     42\u001b[0m         \u001b[0;32mif\u001b[0m \u001b[0mreturn_code\u001b[0m \u001b[0;34m!=\u001b[0m \u001b[0;36m0\u001b[0m\u001b[0;34m:\u001b[0m\u001b[0;34m\u001b[0m\u001b[0;34m\u001b[0m\u001b[0m\n\u001b[0;32m---> 43\u001b[0;31m             \u001b[0;32mraise\u001b[0m \u001b[0mException\u001b[0m\u001b[0;34m(\u001b[0m\u001b[0;34m'Process exited with code %d'\u001b[0m \u001b[0;34m%\u001b[0m \u001b[0mreturn_code\u001b[0m\u001b[0;34m)\u001b[0m\u001b[0;34m\u001b[0m\u001b[0;34m\u001b[0m\u001b[0m\n\u001b[0m",
      "\u001b[0;31mException\u001b[0m: Process exited with code 8"
     ]
    }
   ],
   "source": [
    "!wget -O voxceleb.tar.gz 'https://downloader.disk.yandex.ru/disk/b6f58a830b071d80f3ab22160670a31f3ae0b460e595283a0857afb074ba768c/67c46bcd/gtj3WQiuHGabqHv6W0pVHGRnXFJAW27izLLMm2MbHXViekKTxmGtGgT-Cdced2Nyo5eSrwwUCF_GbUu7CV3RNA%3D%3D?uid=0&filename=voxceleb.tar.gz&disposition=attachment&hash=UbepA8Q9HDxeFKWCa8Y0tO7K9asCmTAjTZtG1dex6z7oEbCbmS7yu53hGphcr8rhq/J6bpmRyOJonT3VoXnDag%3D%3D%3A&limit=0&content_type=application%2Fx-gzip&owner_uid=163052607&fsize=7150565898&hid=d5bd9cc88bda4eba5b285b6d33a11c38&media_type=compressed&tknv=v2'\n",
    "!tar -xf voxceleb.tar.gz"
   ]
  },
  {
   "cell_type": "markdown",
   "metadata": {},
   "source": [
    "### Some model train example"
   ]
  },
  {
   "cell_type": "code",
   "execution_count": 2,
   "metadata": {
    "execution": {
     "iopub.execute_input": "2025-05-17T20:12:40.027906Z",
     "iopub.status.busy": "2025-05-17T20:12:40.026542Z",
     "iopub.status.idle": "2025-05-17T20:12:40.048198Z",
     "shell.execute_reply": "2025-05-17T20:12:40.046823Z",
     "shell.execute_reply.started": "2025-05-17T20:12:40.027839Z"
    },
    "tags": []
   },
   "outputs": [],
   "source": [
    "DEVICE = 'mps' if torch.backends.mps.is_available() else 'cpu' # \"cpu\" for cpu, also you can use \"cuda\" for gpu and \"mps\" for apple silicon\n",
    "DATADIR = './'\n",
    "FEATS = 80\n",
    "LOADER_WORKERS = 8"
   ]
  },
  {
   "cell_type": "code",
   "execution_count": 3,
   "metadata": {
    "execution": {
     "iopub.execute_input": "2025-05-17T20:12:40.051400Z",
     "iopub.status.busy": "2025-05-17T20:12:40.050045Z",
     "iopub.status.idle": "2025-05-17T20:12:41.944821Z",
     "shell.execute_reply": "2025-05-17T20:12:41.943172Z",
     "shell.execute_reply.started": "2025-05-17T20:12:40.051332Z"
    },
    "tags": []
   },
   "outputs": [
    {
     "name": "stderr",
     "output_type": "stream",
     "text": [
      "/Users/anymax/miniconda3/envs/speech_env/lib/python3.9/site-packages/torchaudio/functional/functional.py:584: UserWarning: At least one mel filterbank has all zero values. The value for `n_mels` (128) may be set too high. Or, the value for `n_freqs` (201) may be set too low.\n",
      "  warnings.warn(\n"
     ]
    }
   ],
   "source": [
    "transform = torchaudio.transforms.MFCC(n_mfcc=FEATS) # You can try some other transformations here\n",
    "trainset = dataset.Dataset(os.path.join(DATADIR, 'voxceleb_train'), transform)\n",
    "testset = dataset.Dataset(os.path.join(DATADIR, 'voxceleb_test'), transform)\n",
    "test_targets = pd.read_csv(os.path.join(DATADIR, 'target.csv')).values.tolist()"
   ]
  },
  {
   "cell_type": "markdown",
   "metadata": {},
   "source": [
    "### Models"
   ]
  },
  {
   "cell_type": "code",
   "execution_count": 4,
   "metadata": {
    "execution": {
     "iopub.execute_input": "2025-05-17T20:12:41.951491Z",
     "iopub.status.busy": "2025-05-17T20:12:41.949170Z",
     "iopub.status.idle": "2025-05-17T20:12:41.975483Z",
     "shell.execute_reply": "2025-05-17T20:12:41.973787Z",
     "shell.execute_reply.started": "2025-05-17T20:12:41.951427Z"
    },
    "tags": []
   },
   "outputs": [],
   "source": [
    "class Model(nn.Module):\n",
    "    def __init__(self, input_shape: int, output_shape: int, hidden: int, kernel: int = 7, sride: int = 2):\n",
    "        super().__init__()\n",
    "        self._emb = nn.Sequential(\n",
    "            nn.Conv1d(input_shape, hidden, kernel, stride=sride),\n",
    "            nn.ReLU(),\n",
    "            nn.Conv1d(hidden, hidden, kernel, stride=sride),\n",
    "            nn.ReLU(),\n",
    "            nn.Conv1d(hidden, hidden, kernel, stride=sride),\n",
    "            nn.AdaptiveMaxPool1d(1),\n",
    "        )\n",
    "        self._final = nn.Sequential(\n",
    "            nn.Linear(hidden, output_shape),\n",
    "            nn.LogSoftmax(dim=-1)\n",
    "        )\n",
    "\n",
    "    def forward(self, X) -> tuple[torch.Tensor, torch.Tensor]:\n",
    "        emb = self._emb(X).squeeze(2)\n",
    "        return self._final(emb), emb"
   ]
  },
  {
   "cell_type": "markdown",
   "metadata": {},
   "source": [
    "### Metrics\n",
    "\n",
    "Cosine similarity:\n",
    "$CS(a, b) = \\frac{<a, b>}{\\|a\\| \\|b\\|}$"
   ]
  },
  {
   "cell_type": "code",
   "execution_count": 5,
   "metadata": {
    "execution": {
     "iopub.execute_input": "2025-05-17T20:12:41.979391Z",
     "iopub.status.busy": "2025-05-17T20:12:41.977358Z",
     "iopub.status.idle": "2025-05-17T20:12:42.003789Z",
     "shell.execute_reply": "2025-05-17T20:12:42.002228Z",
     "shell.execute_reply.started": "2025-05-17T20:12:41.979312Z"
    },
    "tags": []
   },
   "outputs": [],
   "source": [
    "def cosine_similarity(a, b):\n",
    "    a = a.reshape(-1)\n",
    "    b = b.reshape(-1)\n",
    "    return np.dot(a, b) / np.linalg.norm(a) / np.linalg.norm(b)"
   ]
  },
  {
   "cell_type": "markdown",
   "metadata": {},
   "source": [
    "Here is O(N log N) algorithm for find best_eer:\n",
    "1) Sort prediction by probability\n",
    "2) Going through items and recalculating far and frr"
   ]
  },
  {
   "cell_type": "code",
   "execution_count": 6,
   "metadata": {
    "execution": {
     "iopub.execute_input": "2025-05-17T20:12:42.007697Z",
     "iopub.status.busy": "2025-05-17T20:12:42.005290Z",
     "iopub.status.idle": "2025-05-17T20:12:42.027470Z",
     "shell.execute_reply": "2025-05-17T20:12:42.026156Z",
     "shell.execute_reply.started": "2025-05-17T20:12:42.007617Z"
    },
    "tags": []
   },
   "outputs": [],
   "source": [
    "def best_eer(data):\n",
    "    full = sorted(data, key=lambda x: (x[0], -x[1]))\n",
    "    pos = len([item for item in full if item[1] == 1])\n",
    "    neg = len(full) - pos\n",
    "    cur_pos = pos\n",
    "    cur_neg = 0\n",
    "    best_eer = 1\n",
    "    for _, label in full:\n",
    "        if label == 1:\n",
    "            cur_pos -= 1\n",
    "        else:\n",
    "            cur_neg += 1\n",
    "        cur_eer = max((pos - cur_pos) / pos, (neg - cur_neg) / neg)\n",
    "        best_eer = min(best_eer, cur_eer)\n",
    "    return best_eer"
   ]
  },
  {
   "cell_type": "markdown",
   "metadata": {},
   "source": [
    "### Train"
   ]
  },
  {
   "cell_type": "code",
   "execution_count": 7,
   "metadata": {
    "execution": {
     "iopub.execute_input": "2025-05-17T20:12:42.030347Z",
     "iopub.status.busy": "2025-05-17T20:12:42.029250Z",
     "iopub.status.idle": "2025-05-17T20:12:42.048724Z",
     "shell.execute_reply": "2025-05-17T20:12:42.047559Z",
     "shell.execute_reply.started": "2025-05-17T20:12:42.030278Z"
    },
    "tags": []
   },
   "outputs": [],
   "source": [
    "def train_stage(model, opt, batch_size: int = 256):\n",
    "    loader = torch_data.DataLoader(\n",
    "        trainset,\n",
    "        shuffle=True,\n",
    "        batch_size=batch_size,\n",
    "        collate_fn=dataset.collate_fn,\n",
    "        num_workers=LOADER_WORKERS,\n",
    "    )\n",
    "    loss_sum = 0.0\n",
    "    batches = 0\n",
    "    for X, Y, _ in tqdm.tqdm(loader):\n",
    "        logits, _ = model.forward(X.to(DEVICE))\n",
    "        # print(\"shape logits: \", logits.shape)\n",
    "        # print(logits)\n",
    "        loss = F.nll_loss(logits.to(DEVICE), Y.to(DEVICE))\n",
    "        # print(\"loss: \", loss)\n",
    "        loss_sum += loss.item()\n",
    "        batches += 1\n",
    "        opt.zero_grad()\n",
    "        loss.backward()\n",
    "        opt.step()\n",
    "    return loss_sum / batches"
   ]
  },
  {
   "cell_type": "code",
   "execution_count": 8,
   "metadata": {
    "execution": {
     "iopub.execute_input": "2025-05-17T20:12:42.051994Z",
     "iopub.status.busy": "2025-05-17T20:12:42.050196Z",
     "iopub.status.idle": "2025-05-17T20:12:42.072551Z",
     "shell.execute_reply": "2025-05-17T20:12:42.071132Z",
     "shell.execute_reply.started": "2025-05-17T20:12:42.051930Z"
    },
    "tags": []
   },
   "outputs": [],
   "source": [
    "def calc_eval_score(model: nn.Module, batch_size: int = 256):\n",
    "    loader = torch_data.DataLoader(\n",
    "        testset,\n",
    "        batch_size=batch_size,\n",
    "        collate_fn=dataset.collate_fn,\n",
    "        num_workers=LOADER_WORKERS,\n",
    "    )\n",
    "    items = {}\n",
    "    target_scores = []\n",
    "    with torch.no_grad():\n",
    "        for X, _, pathes in tqdm.tqdm(loader):\n",
    "            _, embds = model.forward(X.to(DEVICE))\n",
    "            embds = embds.cpu().data.numpy().reshape(X.shape[0], -1)\n",
    "            for embd, path in zip(embds, pathes):\n",
    "                items[path] = embd\n",
    "    for item1, item2, target in test_targets:\n",
    "        # if item1 not in items or item2 not in items:\n",
    "        #     continue\n",
    "        target_scores.append((cosine_similarity(items[item1], items[item2]), target))\n",
    "    return best_eer(target_scores)"
   ]
  },
  {
   "cell_type": "code",
   "execution_count": 9,
   "metadata": {
    "execution": {
     "iopub.execute_input": "2025-05-17T20:12:42.077363Z",
     "iopub.status.busy": "2025-05-17T20:12:42.074717Z",
     "iopub.status.idle": "2025-05-17T20:12:42.103730Z",
     "shell.execute_reply": "2025-05-17T20:12:42.102162Z",
     "shell.execute_reply.started": "2025-05-17T20:12:42.077314Z"
    },
    "tags": []
   },
   "outputs": [],
   "source": [
    "def train(\n",
    "    model: nn.Module,\n",
    "    opt,\n",
    "    batch_size: int = 256,\n",
    "    epochs: int = 10,\n",
    "    train_fun = train_stage,\n",
    "    train_kwargs = {},\n",
    "):\n",
    "    train_losses = []\n",
    "    eval_scores = []\n",
    "    for epoch in range(epochs):\n",
    "        model.train()\n",
    "        train_losses.append(train_fun(model, opt, batch_size=batch_size))\n",
    "        model.eval()\n",
    "        eval_scores.append(calc_eval_score(model, batch_size=batch_size))\n",
    "        clear_output()\n",
    "        fig, axis = plt.subplots(1, 2, figsize=(15, 7))\n",
    "        axis[0].plot(np.arange(1, epoch + 2), train_losses, label='train CE loss')\n",
    "        axis[1].plot(np.arange(1, epoch + 2), eval_scores, label='eval')\n",
    "        axis[0].set(xlabel='epoch', ylabel='CE Loss')\n",
    "        axis[1].set(xlabel='epoch', ylabel='EER')\n",
    "        fig.legend()\n",
    "        plt.show()\n",
    "        print(f'Epoch {epoch + 1}. Train loss {train_losses[-1]}. Eval score {eval_scores[-1]}')"
   ]
  },
  {
   "cell_type": "code",
   "execution_count": 10,
   "metadata": {
    "execution": {
     "iopub.execute_input": "2025-05-17T20:14:40.295884Z",
     "iopub.status.busy": "2025-05-17T20:14:40.294167Z",
     "iopub.status.idle": "2025-05-17T20:18:02.594601Z",
     "shell.execute_reply": "2025-05-17T20:18:02.590378Z",
     "shell.execute_reply.started": "2025-05-17T20:14:40.295822Z"
    },
    "tags": []
   },
   "outputs": [
    {
     "data": {
      "image/png": "[encoded data removed]",
      "text/plain": [
       "<Figure size 1500x700 with 2 Axes>"
      ]
     },
     "metadata": {},
     "output_type": "display_data"
    },
    {
     "name": "stdout",
     "output_type": "stream",
     "text": [
      "Epoch 10. Train loss 2.0930984528559557. Eval score 0.22963951935914553\n"
     ]
    }
   ],
   "source": [
    "model = Model(FEATS, trainset.speakers(), 128).to(DEVICE)\n",
    "opt = optim.Adam(model.parameters())\n",
    "train(model, opt)"
   ]
  },
  {
   "cell_type": "markdown",
   "metadata": {
    "tags": []
   },
   "source": [
    "### ECAPA TDNN (10 points)\n",
    "\n",
    "Paper: https://arxiv.org/pdf/2005.07143.pdf\n",
    "\n",
    "Papers for ECAPA parts:\n",
    "- SE-Blocks - https://arxiv.org/pdf/1709.01507.pdf\n",
    "- Res2Net - https://arxiv.org/pdf/1904.01169.pdf\n",
    "- Attentive Stats Pooling - https://arxiv.org/pdf/1803.10963.pdf\n",
    "- AAM Softmax - https://arxiv.org/pdf/1906.07317.pdf\n",
    "\n",
    "Also you can optionally add other settings for paper:\n",
    "- SpecAug\n",
    "- Weight decay for optimizer\n",
    "- LR scheduler"
   ]
  },
  {
   "cell_type": "code",
   "execution_count": 11,
   "metadata": {
    "execution": {
     "iopub.status.busy": "2025-05-17T20:07:34.133822Z",
     "iopub.status.idle": "2025-05-17T20:07:34.134238Z",
     "shell.execute_reply": "2025-05-17T20:07:34.134066Z",
     "shell.execute_reply.started": "2025-05-17T20:07:34.134043Z"
    },
    "tags": []
   },
   "outputs": [],
   "source": [
    "class SEBlock(nn.Module):\n",
    "    def __init__(self, input_shape: int, reduction: int):\n",
    "        super().__init__()\n",
    "        self.input_shape = input_shape\n",
    "        self.reduction = reduction\n",
    "        # self.after_reduction = self.input_shape // self.reduction\n",
    "        self.after_reduction = reduction\n",
    "        \n",
    "        self.squeeze = nn.AdaptiveAvgPool1d(output_size=1)\n",
    "        self.relu = nn.ReLU()\n",
    "        self.sigm = nn.Sigmoid()\n",
    "        self.fc1 = nn.Conv1d(\n",
    "            in_channels=self.input_shape,\n",
    "            out_channels=self.after_reduction,\n",
    "            kernel_size=1,\n",
    "        )\n",
    "        self.fc2 = nn.Conv1d(\n",
    "            in_channels=self.after_reduction,\n",
    "            out_channels=self.input_shape,\n",
    "            kernel_size=1,\n",
    "        )\n",
    "\n",
    "    def __call__(self, X):\n",
    "        s = self.sigm(self.fc2(self.relu(self.fc1(self.squeeze(X)))))\n",
    "        x = X * s\n",
    "        return x\n",
    "        "
   ]
  },
  {
   "cell_type": "code",
   "execution_count": 18,
   "metadata": {
    "execution": {
     "iopub.status.busy": "2025-05-17T20:07:34.135505Z",
     "iopub.status.idle": "2025-05-17T20:07:34.135867Z",
     "shell.execute_reply": "2025-05-17T20:07:34.135709Z",
     "shell.execute_reply.started": "2025-05-17T20:07:34.135690Z"
    },
    "tags": []
   },
   "outputs": [],
   "source": [
    "class Res2Net(nn.Module):\n",
    "    def __init__(self, hidden: int, dilation: int, scale: int):\n",
    "        super().__init__()\n",
    "        assert hidden % scale == 0\n",
    "        self.hidden = hidden\n",
    "        self.dilation = dilation\n",
    "        self.scale = scale\n",
    "        \n",
    "        self.conv1 = nn.Conv1d(self.hidden, self.hidden * self.scale, kernel_size=1, bias=False)\n",
    "        self.bn1 = nn.BatchNorm1d(self.hidden * self.scale)\n",
    "        conv_list = []\n",
    "        bn_list = []\n",
    "        for _ in range(self.scale - 1):\n",
    "            conv_list.append(nn.Conv1d(self.hidden, self.hidden, kernel_size=3, padding=\"same\", dilation=self.dilation))\n",
    "            bn_list.append(nn.BatchNorm1d(self.hidden))\n",
    "        self.conv_list = nn.ModuleList(conv_list)\n",
    "        self.bn_list = nn.ModuleList(bn_list)\n",
    "        \n",
    "        self.conv2 = nn.Conv1d(self.hidden * self.scale, self.hidden, kernel_size=1, bias=False)\n",
    "        self.bn2 = nn.BatchNorm1d(self.hidden)\n",
    "        self.relu = nn.ReLU()\n",
    "\n",
    "    def __call__(self, X):\n",
    "        out = self.bn1(self.relu(self.conv1(X)))\n",
    "        \n",
    "        x = torch.split(out, self.hidden, dim=1)\n",
    "        for i in range(len(x)):\n",
    "            elem = x[i]\n",
    "            if i == 0:\n",
    "                out = elem\n",
    "                continue\n",
    "            if i == 1:\n",
    "                result = elem\n",
    "            else:\n",
    "                result = result + elem\n",
    "            result = self.conv_list[i - 1](result)\n",
    "            result = self.bn_list[i - 1](self.relu(result))\n",
    "            out = torch.cat((out, result), axis=1)\n",
    "        \n",
    "        out = self.bn2(self.relu(self.conv2(out)))\n",
    "        return out"
   ]
  },
  {
   "cell_type": "code",
   "execution_count": 13,
   "metadata": {
    "execution": {
     "iopub.status.busy": "2025-05-17T20:07:34.138340Z",
     "iopub.status.idle": "2025-05-17T20:07:34.139063Z",
     "shell.execute_reply": "2025-05-17T20:07:34.138901Z",
     "shell.execute_reply.started": "2025-05-17T20:07:34.138875Z"
    },
    "tags": []
   },
   "outputs": [],
   "source": [
    "class EcapaBlock(nn.Module):\n",
    "    def __init__(self, hidden: int, dilation: int, scale: int):\n",
    "        super().__init__()\n",
    "        self.res2net = Res2Net(hidden, dilation, scale)\n",
    "        self.se = SEBlock(hidden, 128)\n",
    "\n",
    "    def __call__(self, X):\n",
    "        out = self.se(self.res2net(X))\n",
    "        out = out + X\n",
    "        return out"
   ]
  },
  {
   "cell_type": "code",
   "execution_count": 14,
   "metadata": {
    "execution": {
     "iopub.status.busy": "2025-05-17T20:07:34.140008Z",
     "iopub.status.idle": "2025-05-17T20:07:34.140658Z",
     "shell.execute_reply": "2025-05-17T20:07:34.140436Z",
     "shell.execute_reply.started": "2025-05-17T20:07:34.140409Z"
    },
    "tags": []
   },
   "outputs": [],
   "source": [
    "class AttentiveStatsPooling(nn.Module):\n",
    "    def __init__(self, input_shape: int, hidden: int):\n",
    "        super().__init__()\n",
    "        self.attention = nn.Sequential(\n",
    "            nn.Linear(input_shape * 3, hidden),\n",
    "            nn.Tanh(),\n",
    "            nn.Linear(hidden, input_shape),\n",
    "            nn.Softmax(dim=1),\n",
    "        )\n",
    "\n",
    "    def __call__(self, X):\n",
    "        # X shape = [time, feats]\n",
    "        # calc mean and std for X over time dimension\n",
    "        x_mean = torch.mean(X, dim=1, keepdim=True)\n",
    "        x_std = torch.sqrt(torch.var(X, dim=1, keepdim=True).clamp(min=2e-8))\n",
    "        # concatenate mean and std to X over feats dimension to make shape [time, feats * 3]\n",
    "        x_concated = torch.cat((X, x_mean.repeat(1, X.size(1), 1), x_std.repeat(1, X.size(1), 1)), dim=2) # [batch_size, time, feats * 3]\n",
    "        # attention\n",
    "        weights = self.attention(x_concated) # [batch_size, time, feats]\n",
    "        # weighted mean and std with weights from attention for original X\n",
    "        x_mean_mu = torch.sum(X * weights, dim=1)\n",
    "        x_std = torch.sqrt((torch.sum(X * X * weights, dim=1) - x_mean_mu * x_mean_mu).clamp(min=2e-8))\n",
    "        if torch.isnan(x_std).any():\n",
    "            print(\"nan in AttentiveStatsPooling std\")\n",
    "        out = torch.cat((x_mean_mu, x_std), axis=1)\n",
    "        # print(\"out attn_pool: \", out.shape)\n",
    "        return out\n",
    "        "
   ]
  },
  {
   "cell_type": "code",
   "execution_count": 15,
   "metadata": {
    "execution": {
     "iopub.status.busy": "2025-05-17T20:07:34.141879Z",
     "iopub.status.idle": "2025-05-17T20:07:34.142586Z",
     "shell.execute_reply": "2025-05-17T20:07:34.142301Z",
     "shell.execute_reply.started": "2025-05-17T20:07:34.142275Z"
    },
    "tags": []
   },
   "outputs": [],
   "source": [
    "class AAMSoftmax(nn.Module):\n",
    "    def __init__(self, input_shape, n_class, margin, scale):\n",
    "        super().__init__()\n",
    "        self.input_shape = input_shape\n",
    "        self.n_class = n_class\n",
    "        self.m = margin\n",
    "        self.s = scale\n",
    "        \n",
    "        self.weights = torch.nn.Parameter(torch.FloatTensor(self.n_class, self.input_shape), requires_grad=True)\n",
    "        nn.init.xavier_normal_(self.weights)\n",
    "\n",
    "    def forward(self, X):\n",
    "        X_norm = F.normalize(X) # [batch_size, 192]\n",
    "        W_norm = F.normalize(self.weights)\n",
    "        # calc cosine similarity between X and weights\n",
    "        cosine_sim = F.linear(X_norm, W_norm) # [batch_size, n_class]\n",
    "        # theta = angle from cosine similarity\n",
    "        theta = torch.acos(cosine_sim.clamp(-1.0, 1.0))\n",
    "        phi = torch.exp(self.s * torch.cos(theta))\n",
    "        phi_with_m = torch.exp(self.s * torch.cos(theta + self.m)) # scale * cos{theta_ii + margin}\n",
    "        # output = torch.zeros(*phi_with_m.shape, requires_grad=True)\n",
    "        output = torch.log((phi_with_m / (phi_with_m + torch.sum(phi, dim=1).unsqueeze(1).repeat(1, self.n_class) - phi)).clamp(min=2e-8))\n",
    "        # for i in range(output.shape[0]):\n",
    "        #     for j in range(output.shape[1]):\n",
    "        #         output[i][j] = torch.log((phi_with_m[i][j] / (phi_with_m[i][j] + torch.sum(phi, dim=1)[i] - phi[i][j])).clamp(min=2e-4))\n",
    "        # print(\"min after log: \", torch.min(output))\n",
    "        # return matrix S, where S_ij = \n",
    "        #     \\log \\frac{\n",
    "        #         \\exp{scale \\cos{theta_ij + margin}}\n",
    "        #     }{\n",
    "        #         \\exp{scale \\cos{theta_ij + margin}} + \\sum_{k != j} \\exp{scale \\cos{theta_ij}}\n",
    "        #     }\n",
    "        return output # [batch_size, n_class]"
   ]
  },
  {
   "cell_type": "code",
   "execution_count": 16,
   "metadata": {
    "execution": {
     "iopub.status.busy": "2025-05-17T20:07:34.144350Z",
     "iopub.status.idle": "2025-05-17T20:07:34.145069Z",
     "shell.execute_reply": "2025-05-17T20:07:34.144840Z",
     "shell.execute_reply.started": "2025-05-17T20:07:34.144817Z"
    },
    "tags": []
   },
   "outputs": [],
   "source": [
    "class EcapaTDNN(nn.Module):\n",
    "    def __init__(self, input_shape: int, output_shape: int):\n",
    "        super().__init__()\n",
    "        self.hidden = 512\n",
    "        \n",
    "        self.layer1 = nn.Sequential(\n",
    "            nn.Conv1d(input_shape, self.hidden, kernel_size=5, padding=\"same\"),\n",
    "            nn.ReLU(),\n",
    "            nn.BatchNorm1d(self.hidden),\n",
    "        )\n",
    "        self.layer2 = EcapaBlock(self.hidden, 2, 8)\n",
    "        self.layer3 = EcapaBlock(self.hidden, 3, 8)\n",
    "        self.layer4 = EcapaBlock(self.hidden, 4, 8)\n",
    "        \n",
    "        self.layer5 = nn.Sequential(\n",
    "            nn.Conv1d(self.hidden * 3, self.hidden * 3, kernel_size=1),\n",
    "            nn.ReLU(),\n",
    "            nn.BatchNorm1d(self.hidden * 3),\n",
    "        )\n",
    "        \n",
    "        self.attn_pool = AttentiveStatsPooling(self.hidden * 3, 128)\n",
    "        self.bn1 = nn.BatchNorm1d(self.hidden * 3 * 2)\n",
    "        \n",
    "        self.layer6 = nn.Sequential(\n",
    "            nn.Linear(self.hidden * 3 * 2, 192),\n",
    "            nn.BatchNorm1d(192),\n",
    "        )\n",
    "        \n",
    "        self.aamsoftmax = AAMSoftmax(192, output_shape, 0.2, 30)\n",
    "        \n",
    "\n",
    "    def forward(self, X):\n",
    "        # input = [batch_size, feats, T]\n",
    "        # print(\"X shape: \", X.shape)\n",
    "        if torch.isnan(X).any(): print(\"NaN in input_tensor\")\n",
    "        out = self.layer1(X) # [batch_size, hidden, T]\n",
    "        # print(\"after self.layer1: \", out.shape)\n",
    "        if torch.isnan(out).any(): print(\"NaN in first batch norm\")\n",
    "        \n",
    "        out_1 = self.layer2(out) + out\n",
    "        # print(\"after self.layer2: \", out_1.shape)\n",
    "        if torch.isnan(out_1).any(): print(\"NaN in out_1\")\n",
    "        out_2 = self.layer3(out_1) + out_1\n",
    "        # print(\"after self.layer3: \", out_2.shape)\n",
    "        if torch.isnan(out_2).any(): print(\"NaN in out_2\")\n",
    "        out_3 = self.layer4(out_2) + out_2\n",
    "        # print(\"after self.layer4: \", out_3.shape)\n",
    "        if torch.isnan(out_3).any(): print(\"NaN in out_3\")\n",
    "        out = torch.cat([out_1, out_2, out_3], dim=1) # [batch_size, hidden * 3 = feats, T]\n",
    "        # print(\"after se_blocks: \", out.shape)\n",
    "        \n",
    "        out = self.layer5(out)\n",
    "        # print(\"after self.layer5: \", out.shape)\n",
    "        if torch.isnan(out).any(): print(\"NaN in layer5\")\n",
    "        out = out.transpose(1, 2) # [batch_size, T, hidden * 3 = feats]\n",
    "        out = self.bn1(self.attn_pool(out))\n",
    "        # print(\"after attn_pool: \", out.shape)\n",
    "        if torch.isnan(out).any(): print(\"NaN after attn_pool\")\n",
    "        \n",
    "        out = self.layer6(out) # [batch_size, 192, 1]\n",
    "        # print(\"after self.layer6: \", out.shape)\n",
    "        \n",
    "        loss = self.aamsoftmax(out)\n",
    "        \n",
    "        return loss, out"
   ]
  },
  {
   "cell_type": "markdown",
   "metadata": {},
   "source": [
    "Train ECAPA model, at this point you can archive stable score (for several consecutive epochs) near 0.08 EER.\n",
    "\n",
    "You can train ECAPA with hidden size 256 to increase speed"
   ]
  },
  {
   "cell_type": "code",
   "execution_count": null,
   "metadata": {
    "execution": {
     "iopub.status.busy": "2025-05-17T20:07:34.146176Z",
     "iopub.status.idle": "2025-05-17T20:07:34.146809Z",
     "shell.execute_reply": "2025-05-17T20:07:34.146611Z",
     "shell.execute_reply.started": "2025-05-17T20:07:34.146587Z"
    },
    "tags": []
   },
   "outputs": [
    {
     "data": {
      "application/vnd.jupyter.widget-view+json": {
       "model_id": "cc02258b4f4a4c2d86f2bfaea3a607ae",
       "version_major": 2,
       "version_minor": 0
      },
      "text/plain": [
       "  0%|          | 0/1060 [00:00<?, ?it/s]"
      ]
     },
     "metadata": {},
     "output_type": "display_data"
    }
   ],
   "source": [
    "model = EcapaTDNN(FEATS, trainset.speakers()).to(DEVICE)\n",
    "#model = EcapaTDNN(FEATS, 11).to(DEVICE)\n",
    "opt = optim.Adam(model.parameters(), lr=0.001)\n",
    "train(model, opt, batch_size=64)"
   ]
  },
  {
   "cell_type": "code",
   "execution_count": null,
   "metadata": {
    "execution": {
     "iopub.status.busy": "2025-05-17T20:07:34.147770Z",
     "iopub.status.idle": "2025-05-17T20:07:34.148348Z",
     "shell.execute_reply": "2025-05-17T20:07:34.148180Z",
     "shell.execute_reply.started": "2025-05-17T20:07:34.148159Z"
    },
    "tags": []
   },
   "outputs": [],
   "source": [
    "# Save model to preserve results before uptraining experiments\n",
    "torch.save(model, 'model.pt')"
   ]
  },
  {
   "cell_type": "markdown",
   "metadata": {},
   "source": [
    "### Contrastive losses (10 points)\n",
    "\n",
    "You can use anyone constrative loss.\n",
    "Good article with contrastive losses https://lilianweng.github.io/posts/2021-05-31-contrastive/\n",
    "\n",
    "Base losses:\n",
    "- contrastive\n",
    "- triplet -- it gives a better quality usually\n",
    "- lifted structured loss -- better batch data utilization\n",
    "\n",
    "The main problem with contrastive loss is the positive pairs sampler.\n",
    "This is because a large number of classes provided only once per batch\n",
    "in case of large number of classes in the dataset."
   ]
  },
  {
   "cell_type": "code",
   "execution_count": 16,
   "metadata": {
    "execution": {
     "iopub.execute_input": "2025-03-14T17:05:45.693876Z",
     "iopub.status.busy": "2025-03-14T17:05:45.692578Z",
     "iopub.status.idle": "2025-03-14T17:05:45.708935Z",
     "shell.execute_reply": "2025-03-14T17:05:45.708287Z",
     "shell.execute_reply.started": "2025-03-14T17:05:45.693834Z"
    },
    "tags": []
   },
   "outputs": [],
   "source": [
    "def random_choice_except(options, exception):\n",
    "    choice = exception\n",
    "    while choice == exception:\n",
    "        choice = np.random.choice(options)\n",
    "    return choice\n",
    "\n",
    "class PositivePairsSampler(torch.utils.data.Sampler):\n",
    "    def __init__(self, speakers: list[int], batch_size: int):\n",
    "        self.batch_size = batch_size\n",
    "        self.speakers = speakers\n",
    "        \n",
    "        speaker_dict = {}\n",
    "        for idx, speaker in enumerate(self.speakers):\n",
    "            if speaker not in speaker_dict:\n",
    "                speaker_dict[speaker] = []\n",
    "            speaker_dict[speaker].append(idx)\n",
    "        self.speaker_dict = speaker_dict\n",
    "\n",
    "    def __len__(self):\n",
    "        return len(self.speakers) // self.batch_size\n",
    "\n",
    "    def __iter__(self):\n",
    "        # yield __len__ batches as list of indexes of samples from dataset\n",
    "        N = len(self)\n",
    "        \n",
    "        all_batches = []\n",
    "        for _ in range(N):\n",
    "            batch = []\n",
    "            chosen_ancors = []\n",
    "            while len(batch) < self.batch_size:\n",
    "                speaker = np.random.choice(list(self.speaker_dict.keys())) # anchor\n",
    "                while speaker in chosen_ancors:\n",
    "                    speaker = np.random.choice(list(self.speaker_dict.keys()))\n",
    "                chosen_ancors.append(speaker)\n",
    "                \n",
    "                positive_samples = np.random.choice(self.speaker_dict[speaker], size=2, replace=False)\n",
    "                batch.extend(positive_samples)\n",
    "\n",
    "                neg_speaker = random_choice_except(list(self.speaker_dict.keys()), speaker) \n",
    "                negative_sample = np.random.choice(self.speaker_dict[neg_speaker])\n",
    "                batch.append(negative_sample)\n",
    "                \n",
    "            samples = batch[:self.batch_size]\n",
    "            yield samples\n",
    "            # all_batches.append(samples)\n",
    "            \n",
    "        # return iter(all_batches)"
   ]
  },
  {
   "cell_type": "code",
   "execution_count": null,
   "metadata": {},
   "outputs": [],
   "source": [
    "def cosine_dist(x, y):\n",
    "    m, n = x.size(0), y.size(0)\n",
    "    x_norm = torch.pow(x, 2).sum(1, keepdim=True).sqrt().expand(m, n)\n",
    "    y_norm = torch.pow(y, 2).sum(1, keepdim=True).sqrt().expand(n, m).t()\n",
    "    xy_intersection = torch.mm(x, y.t())\n",
    "    dist = xy_intersection / (x_norm * y_norm)\n",
    "    dist = (1. - dist) / 2\n",
    "    return dist"
   ]
  },
  {
   "cell_type": "code",
   "execution_count": 17,
   "metadata": {
    "execution": {
     "iopub.execute_input": "2025-03-14T17:05:45.710647Z",
     "iopub.status.busy": "2025-03-14T17:05:45.709778Z",
     "iopub.status.idle": "2025-03-14T17:05:45.721318Z",
     "shell.execute_reply": "2025-03-14T17:05:45.720696Z",
     "shell.execute_reply.started": "2025-03-14T17:05:45.710612Z"
    },
    "tags": []
   },
   "outputs": [],
   "source": [
    " class TripletLoss(nn.Module):\n",
    "    def __init__(self, margin):\n",
    "        super().__init__()\n",
    "        self.margin = margin\n",
    "\n",
    "    def forward(self, anchor, positive, negative):\n",
    "        m = self.margin\n",
    "\n",
    "        dist_pos = cosine_dist(anchor, positive)\n",
    "        dist_neg = cosine_dist(anchor, negative)\n",
    "        loss = F.relu(dist_pos - dist_neg + m)\n",
    "        return loss.mean()"
   ]
  },
  {
   "cell_type": "code",
   "execution_count": 18,
   "metadata": {
    "execution": {
     "iopub.execute_input": "2025-03-14T17:05:45.722942Z",
     "iopub.status.busy": "2025-03-14T17:05:45.722151Z",
     "iopub.status.idle": "2025-03-14T17:05:45.734111Z",
     "shell.execute_reply": "2025-03-14T17:05:45.733521Z",
     "shell.execute_reply.started": "2025-03-14T17:05:45.722908Z"
    },
    "tags": []
   },
   "outputs": [],
   "source": [
    "def contrastive_train_stage(model, opt, batch_size: int = 256):\n",
    "    # You can use any contrastive loss here to improve training\n",
    "    # You can combine contrastive loss with the NLL loss after AAM softmax to improve stability\n",
    "    loader = torch_data.DataLoader(\n",
    "        trainset,\n",
    "        collate_fn=dataset.collate_fn,\n",
    "        num_workers=LOADER_WORKERS,\n",
    "        batch_sampler=PositivePairsSampler(trainset._speakers, batch_size)\n",
    "    )\n",
    "    triplet = TripletLoss(margin=1.0)\n",
    "    loss_sum = 0.0\n",
    "    batches = 0\n",
    "    for X, Y, _ in tqdm.tqdm(loader):\n",
    "        logits, embeddings = model.forward(X.to(DEVICE))\n",
    "        anchor, positive, negative = embeddings[0::3], embeddings[1::3], embeddings[2::3]\n",
    "        loss = triplet(anchor.to(DEVICE), positive.to(DEVICE), negative.to(DEVICE))\n",
    "        loss_aam = F.nll_loss(logits.to(DEVICE), Y.to(DEVICE))\n",
    "        loss_triplet_and_aam = (loss + loss_aam) / 2\n",
    "        loss_sum += loss.item()\n",
    "        batches += 1\n",
    "        opt.zero_grad()\n",
    "        loss_triplet_and_aam.backward()\n",
    "        opt.step()\n",
    "    return loss_sum / batches"
   ]
  },
  {
   "cell_type": "markdown",
   "metadata": {},
   "source": [
    "Train model with contrastive loss here. At this point you can archive EER near 0.06-0.07 (it should be at least on 0.005 to 0.01 better than before)"
   ]
  },
  {
   "cell_type": "code",
   "execution_count": null,
   "metadata": {
    "execution": {
     "iopub.execute_input": "2025-03-14T17:05:45.736616Z",
     "iopub.status.busy": "2025-03-14T17:05:45.734947Z",
     "iopub.status.idle": "2025-03-14T21:26:23.810587Z"
    },
    "tags": []
   },
   "outputs": [
    {
     "data": {
      "image/png": "[encoded data removed]",
      "text/plain": [
       "<Figure size 1500x700 with 2 Axes>"
      ]
     },
     "metadata": {},
     "output_type": "display_data"
    },
    {
     "name": "stdout",
     "output_type": "stream",
     "text": [
      "Epoch 15. Train loss 0.03540957646102321. Eval score 0.07635577595524191\n"
     ]
    }
   ],
   "source": [
    "model = torch.load('model.pt').to(DEVICE)\n",
    "opt = optim.Adam(model.parameters(), lr=0.00001)\n",
    "train(model, opt, batch_size=75, train_fun=contrastive_train_stage, epochs=15)"
   ]
  },
  {
   "cell_type": "code",
   "execution_count": null,
   "metadata": {},
   "outputs": [],
   "source": []
  }
 ],
 "metadata": {
  "kernelspec": {
   "display_name": "Python 3",
   "language": "python",
   "name": "python3"
  },
  "language_info": {
   "codemirror_mode": {
    "name": "ipython",
    "version": 3
   },
   "file_extension": ".py",
   "mimetype": "text/x-python",
   "name": "python",
   "nbconvert_exporter": "python",
   "pygments_lexer": "ipython3",
   "version": "3.9.21"
  }
 },
 "nbformat": 4,
 "nbformat_minor": 4
}
